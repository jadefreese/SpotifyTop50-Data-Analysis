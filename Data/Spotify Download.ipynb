{
 "cells": [
  {
   "cell_type": "markdown",
   "metadata": {},
   "source": [
    "**Set Client ID and API Client Secret for Spotify Data Download**\n",
    "\n",
    "Download the desired Top 50 playlists from the Spotify Library"
   ]
  },
  {
   "cell_type": "code",
   "execution_count": 1,
   "metadata": {},
   "outputs": [],
   "source": [
    "#import the necessary libraries\n",
    "import spotipy\n",
    "from spotipy.oauth2 import SpotifyClientCredentials\n",
    "import os\n",
    "import pandas as pd\n",
    "\n",
    "#set id and secret\n",
    "os.environ['SPOTIFY_CLIENT_ID'] = #add client ID number\n",
    "os.environ['SPOTIFY_API_CLIENT_SECRET'] = #add client secret number\n",
    "client_id = os.getenv('SPOTIFY_CLIENT_ID')\n",
    "client_secret = os.getenv('SPOTIFY_API_CLIENT_SECRET')\n",
    "\n",
    "#get spotify credentials and link\n",
    "auth_manager = SpotifyClientCredentials(client_id,client_secret)\n",
    "sp = spotipy.Spotify(auth_manager=auth_manager)"
   ]
  },
  {
   "cell_type": "code",
   "execution_count": 2,
   "metadata": {},
   "outputs": [],
   "source": [
    "def getTrackIDs(playlistID):\n",
    "    \n",
    "    '''\n",
    "    FUNCTION: identify the IDs for each track in cluded in the playlist\n",
    "\n",
    "    INPUTS:\n",
    "    playlistID - the spotify 22 character ID for the desired playlist\n",
    "\n",
    "    OUTPUTS:\n",
    "    track_ids - list of spotify IDs for the tracks included in the playlist\n",
    "    '''\n",
    "\n",
    "    track_ids = []\n",
    "    playlist = sp.playlist(playlistID)\n",
    "    for item in playlist['tracks']['items']:\n",
    "        track = item['track']\n",
    "        track_ids.append(track['id'])\n",
    "    return track_ids"
   ]
  },
  {
   "cell_type": "code",
   "execution_count": 3,
   "metadata": {},
   "outputs": [],
   "source": [
    "def getTrackFeatures(track_id):\n",
    "    \n",
    "    '''\n",
    "    FUNCTION: return a list of track features for the given track\n",
    "\n",
    "    INPUTS:\n",
    "    track_id - the spotify 22 character ID for the desired track\n",
    "\n",
    "    OUTPUTS:\n",
    "    track_data - list of features for the track\n",
    "    '''\n",
    "\n",
    "    track_info = sp.track(track_id)\n",
    "    features_info = sp.audio_features(track_id)\n",
    "\n",
    "    name = track_info['name']\n",
    "    album = track_info['album']['name']\n",
    "    artist = track_info['album']['artists'][0]['name']\n",
    "    release_date = track_info['album']['release_date']\n",
    "    length = track_info['duration_ms']\n",
    "    popularity = track_info['popularity']\n",
    "\n",
    "    acousticness = features_info[0]['acousticness']\n",
    "    danceability = features_info[0]['danceability']\n",
    "    energy = features_info[0]['energy']\n",
    "    instrumentalness = features_info[0]['instrumentalness']\n",
    "    liveness = features_info[0]['liveness']\n",
    "    loudness = features_info[0]['loudness']\n",
    "    speechiness = features_info[0]['speechiness']\n",
    "    tempo = features_info[0]['tempo']\n",
    "    time_signature = features_info[0]['time_signature']\n",
    "    valence = features_info[0]['valence']\n",
    "\n",
    "    track_data = [name, album, artist, release_date, length, popularity, \n",
    "                  acousticness, danceability, energy, instrumentalness, \n",
    "                  liveness, loudness, speechiness, tempo, time_signature, valence]\n",
    "    return track_data"
   ]
  },
  {
   "cell_type": "code",
   "execution_count": 4,
   "metadata": {},
   "outputs": [],
   "source": [
    "def createPlaylistDF(playlist_id):\n",
    "\n",
    "    '''\n",
    "    FUNCTION: return a panda data frame of the tracks in the desired playlist\n",
    "              with all of the audio features associated with each track\n",
    "\n",
    "    INPUTS:\n",
    "    playlist_id - spotify 22 character ID for the desired playlist\n",
    "\n",
    "    OUTPUTS:\n",
    "    df - panda data frame of the tracks and their audio features\n",
    "    '''\n",
    "\n",
    "    track_ids = getTrackIDs(playlist_id)\n",
    "    track_list = []\n",
    "    for i in range(len(track_ids)):\n",
    "        track_data = getTrackFeatures(track_ids[i])\n",
    "        track_list.append(track_data)\n",
    "\n",
    "    df = pd.DataFrame(track_list, columns= ['Name', 'Album', 'Artist', \n",
    "                                                'Release Date', 'Length', \n",
    "                                                'Popularity', 'Acousticness', \n",
    "                                                'Danceability', 'Energy', \n",
    "                                                'Instrumentalness', 'Liveness', \n",
    "                                                'Loudness', 'Speechiness', \n",
    "                                                'Tempo', 'Time Signature','Valence'])\n",
    "\n",
    "    return df"
   ]
  },
  {
   "cell_type": "code",
   "execution_count": 6,
   "metadata": {},
   "outputs": [],
   "source": [
    "#Global Top 50 Playlist\n",
    "globalTop = createPlaylistDF('37i9dQZEVXbNG2KDcFcKOF')"
   ]
  },
  {
   "cell_type": "code",
   "execution_count": 8,
   "metadata": {},
   "outputs": [],
   "source": [
    "#USA Top 50 Playlist\n",
    "usaTop = createPlaylistDF('37i9dQZEVXbLp5XoPON0wI')"
   ]
  },
  {
   "cell_type": "code",
   "execution_count": 9,
   "metadata": {},
   "outputs": [],
   "source": [
    "#Canada Top 50 Playlist\n",
    "canadaTop = createPlaylistDF('37i9dQZEVXbMda2apknTqH')"
   ]
  },
  {
   "cell_type": "code",
   "execution_count": 10,
   "metadata": {},
   "outputs": [],
   "source": [
    "#Australia Top 50\n",
    "australiaTop = createPlaylistDF('37i9dQZEVXbK4fwx2r07XW')"
   ]
  },
  {
   "cell_type": "code",
   "execution_count": 11,
   "metadata": {},
   "outputs": [],
   "source": [
    "#Ireland Top 50\n",
    "irelandTop = createPlaylistDF('37i9dQZEVXbJIvhIOxXxdp')"
   ]
  },
  {
   "cell_type": "code",
   "execution_count": 12,
   "metadata": {},
   "outputs": [],
   "source": [
    "#UK Top 50\n",
    "ukTop = createPlaylistDF('37i9dQZEVXbMwmF30ppw50')"
   ]
  },
  {
   "cell_type": "code",
   "execution_count": 13,
   "metadata": {},
   "outputs": [],
   "source": [
    "globalTop.to_csv(r'C:\\\\Users\\\\Jessica\\\\Spot50-Data-Analysis\\\\Data\\\\Global-Top-50.csv', index = False)\n",
    "usaTop.to_csv(r'C:\\\\Users\\\\Jessica\\\\Spot50-Data-Analysis\\\\Data\\\\USA-Top-50.csv', index = False)\n",
    "australiaTop.to_csv(r'C:\\\\Users\\\\Jessica\\\\Spot50-Data-Analysis\\\\Data\\\\Australia-Top-50.csv', index = False)\n",
    "canadaTop.to_csv(r'C:\\\\Users\\\\Jessica\\\\Spot50-Data-Analysis\\\\Data\\\\Canada-Top-50.csv', index = False)\n",
    "irelandTop.to_csv(r'C:\\\\Users\\\\Jessica\\\\Spot50-Data-Analysis\\\\Data\\\\Ireland-Top-50.csv', index = False)\n",
    "ukTop.to_csv(r'C:\\\\Users\\\\Jessica\\\\Spot50-Data-Analysis\\\\Data\\\\UK-Top-50.csv', index = False)"
   ]
  }
 ],
 "metadata": {
  "interpreter": {
   "hash": "fc2b9b8e7ffc55491203f57f14c59c77deaf23810082ba77383500414caf9122"
  },
  "kernelspec": {
   "display_name": "Python 3.9.4 64-bit",
   "name": "python3"
  },
  "language_info": {
   "codemirror_mode": {
    "name": "ipython",
    "version": 3
   },
   "file_extension": ".py",
   "mimetype": "text/x-python",
   "name": "python",
   "nbconvert_exporter": "python",
   "pygments_lexer": "ipython3",
   "version": "3.9.4"
  },
  "orig_nbformat": 4
 },
 "nbformat": 4,
 "nbformat_minor": 2
}

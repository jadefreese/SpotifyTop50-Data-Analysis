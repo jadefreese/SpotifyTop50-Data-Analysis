{
 "cells": [
  {
   "cell_type": "markdown",
   "source": [
    "**Import the following playlists from the Spotify API:**\r\n",
    "\r\n",
    "-Global Top 50\r\n",
    "\r\n",
    "-USA Top 50\r\n",
    "\r\n",
    "-Canada Top 50\r\n",
    "\r\n",
    "-Australia Top 50\r\n",
    "\r\n",
    "-Ireland Top 50\r\n",
    "\r\n",
    "-UK Top 50"
   ],
   "metadata": {}
  },
  {
   "cell_type": "code",
   "execution_count": 2,
   "source": [
    "#import the necessary libraries\r\n",
    "import numpy as np\r\n",
    "import pandas as pd\r\n",
    "from IPython import display\r\n",
    "import matplotlib.pyplot as plt\r\n",
    "%matplotlib inline"
   ],
   "outputs": [],
   "metadata": {}
  },
  {
   "cell_type": "code",
   "execution_count": 3,
   "source": [
    "#add the playlists from the stored Data file\r\n",
    "globalTop = pd.read_csv(r'C:\\\\Users\\\\Jessica\\\\Spot50-Data-Analysis\\\\Data\\\\Global-Top-50.csv', \r\n",
    "                        sep = ',', error_bad_lines = False, index_col = False)\r\n",
    "usaTop = pd.read_csv(r'C:\\\\Users\\\\Jessica\\\\Spot50-Data-Analysis\\\\Data\\\\USA-Top-50.csv', \r\n",
    "                     sep = ',', error_bad_lines = False, index_col = False)\r\n",
    "australiaTop = pd.read_csv(r'C:\\\\Users\\\\Jessica\\\\Spot50-Data-Analysis\\\\Data\\\\Australia-Top-50.csv', \r\n",
    "                           sep = ',', error_bad_lines = False, index_col = False)\r\n",
    "canadaTop = pd.read_csv(r'C:\\\\Users\\\\Jessica\\\\Spot50-Data-Analysis\\\\Data\\\\Canada-Top-50.csv', \r\n",
    "                        sep = ',', error_bad_lines = False, index_col = False)\r\n",
    "irelandTop = pd.read_csv(r'C:\\\\Users\\\\Jessica\\\\Spot50-Data-Analysis\\\\Data\\\\Ireland-Top-50.csv', \r\n",
    "                         sep = ',', error_bad_lines = False, index_col = False)\r\n",
    "ukTop = pd.read_csv(r'C:\\\\Users\\\\Jessica\\\\Spot50-Data-Analysis\\\\Data\\\\UK-Top-50.csv', \r\n",
    "                    sep = ',', error_bad_lines = False, index_col = False)"
   ],
   "outputs": [],
   "metadata": {}
  }
 ],
 "metadata": {
  "orig_nbformat": 4,
  "language_info": {
   "name": "python",
   "version": "3.9.4",
   "mimetype": "text/x-python",
   "codemirror_mode": {
    "name": "ipython",
    "version": 3
   },
   "pygments_lexer": "ipython3",
   "nbconvert_exporter": "python",
   "file_extension": ".py"
  },
  "kernelspec": {
   "name": "python3",
   "display_name": "Python 3.9.4 64-bit"
  },
  "interpreter": {
   "hash": "fc2b9b8e7ffc55491203f57f14c59c77deaf23810082ba77383500414caf9122"
  }
 },
 "nbformat": 4,
 "nbformat_minor": 2
}
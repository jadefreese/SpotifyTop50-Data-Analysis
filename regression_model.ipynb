{
 "cells": [
  {
   "cell_type": "markdown",
   "metadata": {},
   "source": [
    "Business Understanding: \n",
    "1) How do audio features impact the popularity of songs on Spotify?\n",
    "2) Can a song's audio features indicate the likely popularity of the \n",
    "   song before it is released?"
   ]
  },
  {
   "cell_type": "code",
   "execution_count": 1,
   "metadata": {},
   "outputs": [],
   "source": [
    "#import the necessary libraries\n",
    "import numpy as np\n",
    "import pandas as pd\n",
    "\n",
    "from sklearn.preprocessing import MinMaxScaler\n",
    "from sklearn.model_selection import train_test_split\n",
    "from sklearn.model_selection import cross_val_score\n",
    "from sklearn.model_selection import RepeatedKFold\n",
    "\n",
    "from sklearn.linear_model import Lasso\n",
    "from sklearn.linear_model import Ridge\n",
    "from xgboost import XGBRegressor\n",
    "\n",
    "from sklearn.ensemble import StackingRegressor\n",
    "from sklearn.ensemble import RandomForestRegressor\n",
    "from sklearn.neighbors import KNeighborsRegressor\n",
    "from sklearn.tree import DecisionTreeRegressor\n",
    "from sklearn.svm import SVR"
   ]
  },
  {
   "cell_type": "markdown",
   "metadata": {},
   "source": [
    "Gather (see Understanding the Data.ipynb for Assess and Clean Data steps)"
   ]
  },
  {
   "cell_type": "code",
   "execution_count": 2,
   "metadata": {},
   "outputs": [],
   "source": [
    "#add the playlists from the stored Data file\n",
    "all_features = pd.read_csv(r'C:\\\\Users\\\\Jessica\\\\Spot50-Data-Analysis\\\\Data\\\\Features.csv', \n",
    "                          sep = ',', error_bad_lines = False, index_col = False)\n"
   ]
  },
  {
   "cell_type": "markdown",
   "metadata": {},
   "source": [
    "Clean: Scale the audio features to the same range"
   ]
  },
  {
   "cell_type": "code",
   "execution_count": 3,
   "metadata": {},
   "outputs": [
    {
     "data": {
      "text/html": [
       "<div>\n",
       "<style scoped>\n",
       "    .dataframe tbody tr th:only-of-type {\n",
       "        vertical-align: middle;\n",
       "    }\n",
       "\n",
       "    .dataframe tbody tr th {\n",
       "        vertical-align: top;\n",
       "    }\n",
       "\n",
       "    .dataframe thead th {\n",
       "        text-align: right;\n",
       "    }\n",
       "</style>\n",
       "<table border=\"1\" class=\"dataframe\">\n",
       "  <thead>\n",
       "    <tr style=\"text-align: right;\">\n",
       "      <th></th>\n",
       "      <th>Length</th>\n",
       "      <th>Popularity</th>\n",
       "      <th>Acousticness</th>\n",
       "      <th>Danceability</th>\n",
       "      <th>Energy</th>\n",
       "      <th>Instrumentalness</th>\n",
       "      <th>Liveness</th>\n",
       "      <th>Loudness</th>\n",
       "      <th>Speechiness</th>\n",
       "      <th>Tempo</th>\n",
       "      <th>Valence</th>\n",
       "    </tr>\n",
       "  </thead>\n",
       "  <tbody>\n",
       "    <tr>\n",
       "      <th>count</th>\n",
       "      <td>106.000000</td>\n",
       "      <td>106.000000</td>\n",
       "      <td>106.000000</td>\n",
       "      <td>106.000000</td>\n",
       "      <td>106.000000</td>\n",
       "      <td>1.060000e+02</td>\n",
       "      <td>106.000000</td>\n",
       "      <td>106.000000</td>\n",
       "      <td>106.000000</td>\n",
       "      <td>106.000000</td>\n",
       "      <td>106.000000</td>\n",
       "    </tr>\n",
       "    <tr>\n",
       "      <th>mean</th>\n",
       "      <td>0.479954</td>\n",
       "      <td>0.721618</td>\n",
       "      <td>0.226932</td>\n",
       "      <td>0.602592</td>\n",
       "      <td>0.590506</td>\n",
       "      <td>2.024386e-02</td>\n",
       "      <td>0.319941</td>\n",
       "      <td>0.664389</td>\n",
       "      <td>0.111672</td>\n",
       "      <td>0.421139</td>\n",
       "      <td>0.505486</td>\n",
       "    </tr>\n",
       "    <tr>\n",
       "      <th>std</th>\n",
       "      <td>0.230432</td>\n",
       "      <td>0.183951</td>\n",
       "      <td>0.252111</td>\n",
       "      <td>0.222625</td>\n",
       "      <td>0.199482</td>\n",
       "      <td>1.170957e-01</td>\n",
       "      <td>0.234006</td>\n",
       "      <td>0.206107</td>\n",
       "      <td>0.153220</td>\n",
       "      <td>0.211484</td>\n",
       "      <td>0.256201</td>\n",
       "    </tr>\n",
       "    <tr>\n",
       "      <th>min</th>\n",
       "      <td>0.000000</td>\n",
       "      <td>0.000000</td>\n",
       "      <td>0.000000</td>\n",
       "      <td>0.000000</td>\n",
       "      <td>0.000000</td>\n",
       "      <td>0.000000e+00</td>\n",
       "      <td>0.000000</td>\n",
       "      <td>0.000000</td>\n",
       "      <td>0.000000</td>\n",
       "      <td>0.000000</td>\n",
       "      <td>0.000000</td>\n",
       "    </tr>\n",
       "    <tr>\n",
       "      <th>25%</th>\n",
       "      <td>0.283693</td>\n",
       "      <td>0.644068</td>\n",
       "      <td>0.018200</td>\n",
       "      <td>0.471170</td>\n",
       "      <td>0.448286</td>\n",
       "      <td>0.000000e+00</td>\n",
       "      <td>0.169353</td>\n",
       "      <td>0.555319</td>\n",
       "      <td>0.017834</td>\n",
       "      <td>0.265034</td>\n",
       "      <td>0.326279</td>\n",
       "    </tr>\n",
       "    <tr>\n",
       "      <th>50%</th>\n",
       "      <td>0.479225</td>\n",
       "      <td>0.762712</td>\n",
       "      <td>0.131540</td>\n",
       "      <td>0.651565</td>\n",
       "      <td>0.610159</td>\n",
       "      <td>8.849077e-07</td>\n",
       "      <td>0.228426</td>\n",
       "      <td>0.678630</td>\n",
       "      <td>0.044979</td>\n",
       "      <td>0.435674</td>\n",
       "      <td>0.480674</td>\n",
       "    </tr>\n",
       "    <tr>\n",
       "      <th>75%</th>\n",
       "      <td>0.625931</td>\n",
       "      <td>0.847458</td>\n",
       "      <td>0.352102</td>\n",
       "      <td>0.764003</td>\n",
       "      <td>0.747246</td>\n",
       "      <td>7.798588e-05</td>\n",
       "      <td>0.397843</td>\n",
       "      <td>0.818733</td>\n",
       "      <td>0.134436</td>\n",
       "      <td>0.560037</td>\n",
       "      <td>0.704437</td>\n",
       "    </tr>\n",
       "    <tr>\n",
       "      <th>max</th>\n",
       "      <td>1.000000</td>\n",
       "      <td>1.000000</td>\n",
       "      <td>1.000000</td>\n",
       "      <td>1.000000</td>\n",
       "      <td>1.000000</td>\n",
       "      <td>1.000000e+00</td>\n",
       "      <td>1.000000</td>\n",
       "      <td>1.000000</td>\n",
       "      <td>1.000000</td>\n",
       "      <td>1.000000</td>\n",
       "      <td>1.000000</td>\n",
       "    </tr>\n",
       "  </tbody>\n",
       "</table>\n",
       "</div>"
      ],
      "text/plain": [
       "           Length  Popularity  Acousticness  Danceability      Energy  \\\n",
       "count  106.000000  106.000000    106.000000    106.000000  106.000000   \n",
       "mean     0.479954    0.721618      0.226932      0.602592    0.590506   \n",
       "std      0.230432    0.183951      0.252111      0.222625    0.199482   \n",
       "min      0.000000    0.000000      0.000000      0.000000    0.000000   \n",
       "25%      0.283693    0.644068      0.018200      0.471170    0.448286   \n",
       "50%      0.479225    0.762712      0.131540      0.651565    0.610159   \n",
       "75%      0.625931    0.847458      0.352102      0.764003    0.747246   \n",
       "max      1.000000    1.000000      1.000000      1.000000    1.000000   \n",
       "\n",
       "       Instrumentalness    Liveness    Loudness  Speechiness       Tempo  \\\n",
       "count      1.060000e+02  106.000000  106.000000   106.000000  106.000000   \n",
       "mean       2.024386e-02    0.319941    0.664389     0.111672    0.421139   \n",
       "std        1.170957e-01    0.234006    0.206107     0.153220    0.211484   \n",
       "min        0.000000e+00    0.000000    0.000000     0.000000    0.000000   \n",
       "25%        0.000000e+00    0.169353    0.555319     0.017834    0.265034   \n",
       "50%        8.849077e-07    0.228426    0.678630     0.044979    0.435674   \n",
       "75%        7.798588e-05    0.397843    0.818733     0.134436    0.560037   \n",
       "max        1.000000e+00    1.000000    1.000000     1.000000    1.000000   \n",
       "\n",
       "          Valence  \n",
       "count  106.000000  \n",
       "mean     0.505486  \n",
       "std      0.256201  \n",
       "min      0.000000  \n",
       "25%      0.326279  \n",
       "50%      0.480674  \n",
       "75%      0.704437  \n",
       "max      1.000000  "
      ]
     },
     "execution_count": 3,
     "metadata": {},
     "output_type": "execute_result"
    }
   ],
   "source": [
    "scaler = MinMaxScaler()\n",
    "col_names = all_features.columns.tolist()\n",
    "scaled_features = all_features.copy()\n",
    "scaled_features[col_names] = scaler.fit_transform(all_features[col_names])\n",
    "scaled_features.describe()"
   ]
  },
  {
   "cell_type": "markdown",
   "metadata": {},
   "source": [
    "Analyze: Begin Data Modeling/Evaluation"
   ]
  },
  {
   "cell_type": "code",
   "execution_count": 4,
   "metadata": {},
   "outputs": [],
   "source": [
    "#split features data into train and test data sets\n",
    "y = scaled_features['Popularity']\n",
    "X = scaled_features.drop(['Popularity'], axis=1)\n",
    "\n",
    "X_train, X_test, y_train, y_test = train_test_split(X, y, \n",
    "                                                    test_size=0.33,\n",
    "                                                    random_state=42)"
   ]
  },
  {
   "cell_type": "code",
   "execution_count": 5,
   "metadata": {},
   "outputs": [
    {
     "name": "stdout",
     "output_type": "stream",
     "text": [
      "Mean MSE: 0.146 (0.054)\n"
     ]
    }
   ],
   "source": [
    "#Determine the mean square error for Lasso Regression on the data set\n",
    "model = Lasso()\n",
    "cv = RepeatedKFold(n_splits=10, n_repeats=3, random_state=1)\n",
    "scores = cross_val_score(model, X_train, y_train, \n",
    "                         scoring='neg_root_mean_squared_error', cv=cv, \n",
    "                         n_jobs=-1)\n",
    "scores = np.absolute(scores)\n",
    "print('Mean MSE: %.3f (%.3f)' % (np.mean(scores), np.std(scores)))"
   ]
  },
  {
   "cell_type": "code",
   "execution_count": 6,
   "metadata": {},
   "outputs": [
    {
     "name": "stdout",
     "output_type": "stream",
     "text": [
      "Mean MSE: 0.147 (0.052)\n"
     ]
    }
   ],
   "source": [
    "#Determine the mean square error for Ridge Regression on the data set\n",
    "model = Ridge()\n",
    "cv = RepeatedKFold(n_splits=10, n_repeats=3, random_state=1)\n",
    "scores = cross_val_score(model, X_train, y_train, \n",
    "                         scoring='neg_root_mean_squared_error', cv=cv, \n",
    "                         n_jobs=-1)\n",
    "scores = np.absolute(scores)\n",
    "print('Mean MSE: %.3f (%.3f)' % (np.mean(scores), np.std(scores)))"
   ]
  },
  {
   "cell_type": "code",
   "execution_count": 7,
   "metadata": {},
   "outputs": [
    {
     "name": "stdout",
     "output_type": "stream",
     "text": [
      "Mean MSE: 0.170 (0.057)\n"
     ]
    }
   ],
   "source": [
    "#Determine the mean square error for XGB Regression on the data set\n",
    "model = XGBRegressor()\n",
    "cv = RepeatedKFold(n_splits=10, n_repeats=3, random_state=1)\n",
    "scores = cross_val_score(model, X_train, y_train, \n",
    "                         scoring='neg_root_mean_squared_error', cv=cv, \n",
    "                         n_jobs=-1)\n",
    "scores = np.absolute(scores)\n",
    "print('Mean MSE: %.3f (%.3f)' % (np.mean(scores), np.std(scores)))"
   ]
  },
  {
   "cell_type": "code",
   "execution_count": 8,
   "metadata": {},
   "outputs": [
    {
     "name": "stdout",
     "output_type": "stream",
     "text": [
      "Mean MSE: 0.154 (0.053)\n"
     ]
    }
   ],
   "source": [
    "#Determine the mean square error for Random Forest Regression on the data set\n",
    "model = RandomForestRegressor()\n",
    "cv = RepeatedKFold(n_splits=10, n_repeats=3, random_state=1)\n",
    "scores = cross_val_score(model, X_train, y_train, \n",
    "                         scoring='neg_root_mean_squared_error', cv=cv, \n",
    "                         n_jobs=-1)\n",
    "scores = np.absolute(scores)\n",
    "print('Mean MSE: %.3f (%.3f)' % (np.mean(scores), np.std(scores)))"
   ]
  },
  {
   "cell_type": "code",
   "execution_count": 9,
   "metadata": {},
   "outputs": [
    {
     "name": "stdout",
     "output_type": "stream",
     "text": [
      "Mean MSE: 0.192 (0.058)\n"
     ]
    }
   ],
   "source": [
    "#Determine the mean square error for Decision Tree Regression on the data set\n",
    "model = DecisionTreeRegressor()\n",
    "cv = RepeatedKFold(n_splits=10, n_repeats=3, random_state=1)\n",
    "scores = cross_val_score(model, X_train, y_train, \n",
    "                         scoring='neg_root_mean_squared_error', cv=cv, \n",
    "                         n_jobs=-1)\n",
    "scores = np.absolute(scores)\n",
    "print('Mean MSE: %.3f (%.3f)' % (np.mean(scores), np.std(scores)))"
   ]
  },
  {
   "cell_type": "code",
   "execution_count": 10,
   "metadata": {},
   "outputs": [
    {
     "name": "stdout",
     "output_type": "stream",
     "text": [
      "Mean MSE: 0.155 (0.051)\n"
     ]
    }
   ],
   "source": [
    "#Determine the mean square error for Support Vector Regression on the data set\n",
    "model = SVR()\n",
    "cv = RepeatedKFold(n_splits=10, n_repeats=3, random_state=1)\n",
    "scores = cross_val_score(model, X_train, y_train, \n",
    "                         scoring='neg_root_mean_squared_error', cv=cv, \n",
    "                         n_jobs=-1)\n",
    "scores = np.absolute(scores)\n",
    "print('Mean MSE: %.3f (%.3f)' % (np.mean(scores), np.std(scores)))"
   ]
  },
  {
   "cell_type": "markdown",
   "metadata": {},
   "source": [
    "Use stacked regressors to see if we can improve the model"
   ]
  },
  {
   "cell_type": "code",
   "execution_count": 11,
   "metadata": {},
   "outputs": [],
   "source": [
    "#create a list of level 0 estimators for stacking comparisons\n",
    "level0 = list()\n",
    "level0.append(('rfr', RandomForestRegressor()))\n",
    "level0.append(('knn', KNeighborsRegressor()))\n",
    "level0.append(('dtr', DecisionTreeRegressor()))\n",
    "level0.append(('svm', SVR()))\n"
   ]
  },
  {
   "cell_type": "code",
   "execution_count": 12,
   "metadata": {},
   "outputs": [],
   "source": [
    "def evaluate_model(model, X, y):\n",
    "\n",
    "\t'''\n",
    "    FUNCTION: output the mean squared error of a regression model\n",
    "    INPUTS: model- the stacked regression model to score\n",
    "\t\t\tX- popularity\n",
    "\t\t\ty- audio features\n",
    "    OUTPUT: mean squared error of the model\n",
    "    '''\n",
    "\t\n",
    "\tcv = RepeatedKFold(n_splits=10, n_repeats=3, random_state=1)\n",
    "\tscores = cross_val_score(model, X, y, \n",
    "\t\t\t\t\t\t\tscoring='neg_root_mean_squared_error', cv=cv, \n",
    "\t\t\t\t\t\t\tn_jobs=-1, error_score='raise')\n",
    "\tscores = np.absolute(scores)\n",
    "\treturn scores"
   ]
  },
  {
   "cell_type": "code",
   "execution_count": 13,
   "metadata": {},
   "outputs": [
    {
     "name": "stdout",
     "output_type": "stream",
     "text": [
      "The best combination is: Ridge + (('rfr', RandomForestRegressor()), ('knn', KNeighborsRegressor()), ('dtr', DecisionTreeRegressor())) with a score of 0.1455730104345429\n"
     ]
    }
   ],
   "source": [
    "import itertools\n",
    "X_train, X_test, y_train, y_test = train_test_split(X, y, \n",
    "                                                    test_size=0.33,\n",
    "                                                    random_state=42)\n",
    "#loop through every possible stacked combination and output the best combination\n",
    "#and its score\n",
    "best_combo = ''\n",
    "lowest_score = 5\n",
    "for n in range(0, len(level0)+1):\n",
    "    for subset in itertools.combinations(level0, n):\n",
    "        if subset:\n",
    "            #XGB\n",
    "            model = StackingRegressor(estimators=subset, \n",
    "                                      final_estimator=XGBRegressor(), \n",
    "                                      cv=5)\n",
    "            scores = evaluate_model(model,X_train, y_train)\n",
    "            #print('XGB +',subset,(np.mean(scores), np.std(scores)))\n",
    "            if np.mean(scores)<lowest_score:\n",
    "                lowest_score = np.mean(scores)\n",
    "                best_linear = 'XGB'\n",
    "                best_combo = subset\n",
    "            #Lasso\n",
    "            model = StackingRegressor(estimators=subset, \n",
    "                                      final_estimator=Lasso(), \n",
    "                                      cv=5)\n",
    "            scores = evaluate_model(model,X_train, y_train)\n",
    "            #print('Lasso +',subset,(np.mean(scores), np.std(scores)))\n",
    "            if np.mean(scores)<lowest_score:\n",
    "                lowest_score = np.mean(scores)\n",
    "                best_linear = 'Lasso'\n",
    "                best_combo = subset\n",
    "            #Ridge\n",
    "            model = StackingRegressor(estimators=subset, \n",
    "                                      final_estimator=Ridge(), \n",
    "                                      cv=5)\n",
    "            scores = evaluate_model(model,X_train, y_train)\n",
    "            #print('Ridge +',subset,(np.mean(scores), np.std(scores)))\n",
    "            if np.mean(scores)<lowest_score:\n",
    "                lowest_score = np.mean(scores)\n",
    "                best_linear = 'Ridge'\n",
    "                best_combo = subset\n",
    "print('The best combination is:', best_linear, '+', best_combo, \n",
    "      'with a score of', lowest_score)"
   ]
  },
  {
   "cell_type": "code",
   "execution_count": 14,
   "metadata": {},
   "outputs": [],
   "source": [
    "#based on the output of the selection loop, evaluate the regression model and \n",
    "#compare the predicted values to the actual popularity values\n",
    "est_lev0 = [('rfr', RandomForestRegressor()),('knn', KNeighborsRegressor()),\n",
    "            ('dtr', DecisionTreeRegressor())]\n",
    "model = StackingRegressor(estimators=est_lev0,final_estimator=Ridge(),cv=5)\n",
    "scores = evaluate_model(model,X_train, y_train)\n",
    "model.fit(X_train,y_train)\n",
    "y_pred = model.predict(X_test)\n",
    "result_compare = pd.DataFrame()\n",
    "result_compare['Predicted'] = y_pred\n",
    "result_compare = pd.merge(result_compare,y_test,left_index=True,right_index=True)\n",
    "result_compare['Difference'] = y_pred-y_test\n"
   ]
  },
  {
   "cell_type": "code",
   "execution_count": 15,
   "metadata": {},
   "outputs": [
    {
     "data": {
      "text/html": [
       "<div>\n",
       "<style scoped>\n",
       "    .dataframe tbody tr th:only-of-type {\n",
       "        vertical-align: middle;\n",
       "    }\n",
       "\n",
       "    .dataframe tbody tr th {\n",
       "        vertical-align: top;\n",
       "    }\n",
       "\n",
       "    .dataframe thead th {\n",
       "        text-align: right;\n",
       "    }\n",
       "</style>\n",
       "<table border=\"1\" class=\"dataframe\">\n",
       "  <thead>\n",
       "    <tr style=\"text-align: right;\">\n",
       "      <th></th>\n",
       "      <th>Predicted</th>\n",
       "      <th>Popularity</th>\n",
       "      <th>Difference</th>\n",
       "    </tr>\n",
       "  </thead>\n",
       "  <tbody>\n",
       "    <tr>\n",
       "      <th>0</th>\n",
       "      <td>0.736699</td>\n",
       "      <td>1.000000</td>\n",
       "      <td>-0.269091</td>\n",
       "    </tr>\n",
       "    <tr>\n",
       "      <th>4</th>\n",
       "      <td>0.734974</td>\n",
       "      <td>0.881356</td>\n",
       "      <td>-0.152355</td>\n",
       "    </tr>\n",
       "    <tr>\n",
       "      <th>9</th>\n",
       "      <td>0.728362</td>\n",
       "      <td>0.728814</td>\n",
       "      <td>0.004212</td>\n",
       "    </tr>\n",
       "    <tr>\n",
       "      <th>10</th>\n",
       "      <td>0.725598</td>\n",
       "      <td>0.949153</td>\n",
       "      <td>-0.220773</td>\n",
       "    </tr>\n",
       "    <tr>\n",
       "      <th>11</th>\n",
       "      <td>0.737617</td>\n",
       "      <td>0.932203</td>\n",
       "      <td>-0.203841</td>\n",
       "    </tr>\n",
       "    <tr>\n",
       "      <th>12</th>\n",
       "      <td>0.730909</td>\n",
       "      <td>0.915254</td>\n",
       "      <td>-0.184851</td>\n",
       "    </tr>\n",
       "    <tr>\n",
       "      <th>15</th>\n",
       "      <td>0.729704</td>\n",
       "      <td>0.932203</td>\n",
       "      <td>-0.197153</td>\n",
       "    </tr>\n",
       "    <tr>\n",
       "      <th>18</th>\n",
       "      <td>0.724646</td>\n",
       "      <td>0.898305</td>\n",
       "      <td>-0.171292</td>\n",
       "    </tr>\n",
       "    <tr>\n",
       "      <th>22</th>\n",
       "      <td>0.732675</td>\n",
       "      <td>0.898305</td>\n",
       "      <td>-0.164792</td>\n",
       "    </tr>\n",
       "    <tr>\n",
       "      <th>26</th>\n",
       "      <td>0.728044</td>\n",
       "      <td>0.796610</td>\n",
       "      <td>-0.064978</td>\n",
       "    </tr>\n",
       "    <tr>\n",
       "      <th>30</th>\n",
       "      <td>0.727675</td>\n",
       "      <td>0.728814</td>\n",
       "      <td>0.008040</td>\n",
       "    </tr>\n",
       "    <tr>\n",
       "      <th>31</th>\n",
       "      <td>0.726263</td>\n",
       "      <td>0.864407</td>\n",
       "      <td>-0.127595</td>\n",
       "    </tr>\n",
       "    <tr>\n",
       "      <th>33</th>\n",
       "      <td>0.734688</td>\n",
       "      <td>0.745763</td>\n",
       "      <td>-0.012538</td>\n",
       "    </tr>\n",
       "  </tbody>\n",
       "</table>\n",
       "</div>"
      ],
      "text/plain": [
       "    Predicted  Popularity  Difference\n",
       "0    0.736699    1.000000   -0.269091\n",
       "4    0.734974    0.881356   -0.152355\n",
       "9    0.728362    0.728814    0.004212\n",
       "10   0.725598    0.949153   -0.220773\n",
       "11   0.737617    0.932203   -0.203841\n",
       "12   0.730909    0.915254   -0.184851\n",
       "15   0.729704    0.932203   -0.197153\n",
       "18   0.724646    0.898305   -0.171292\n",
       "22   0.732675    0.898305   -0.164792\n",
       "26   0.728044    0.796610   -0.064978\n",
       "30   0.727675    0.728814    0.008040\n",
       "31   0.726263    0.864407   -0.127595\n",
       "33   0.734688    0.745763   -0.012538"
      ]
     },
     "execution_count": 15,
     "metadata": {},
     "output_type": "execute_result"
    }
   ],
   "source": [
    "result_compare"
   ]
  }
 ],
 "metadata": {
  "interpreter": {
   "hash": "fc2b9b8e7ffc55491203f57f14c59c77deaf23810082ba77383500414caf9122"
  },
  "kernelspec": {
   "display_name": "Python 3.9.4 64-bit",
   "name": "python3"
  },
  "language_info": {
   "codemirror_mode": {
    "name": "ipython",
    "version": 3
   },
   "file_extension": ".py",
   "mimetype": "text/x-python",
   "name": "python",
   "nbconvert_exporter": "python",
   "pygments_lexer": "ipython3",
   "version": "3.9.4"
  },
  "orig_nbformat": 4
 },
 "nbformat": 4,
 "nbformat_minor": 2
}
